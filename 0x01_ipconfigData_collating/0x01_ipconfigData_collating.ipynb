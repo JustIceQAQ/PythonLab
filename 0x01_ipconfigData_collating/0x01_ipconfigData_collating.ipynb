{
 "cells": [
  {
   "cell_type": "code",
   "execution_count": null,
   "metadata": {},
   "outputs": [],
   "source": [
    "import os\n",
    "import random\n",
    "import string"
   ]
  },
  {
   "cell_type": "code",
   "execution_count": null,
   "metadata": {},
   "outputs": [],
   "source": [
    "def BIGSTR(a, b, c, d):\n",
    "    BIG_STR = f'''\n",
    "\n",
    "Windows IP 設定\n",
    "\n",
    "\n",
    "乙太網路卡 乙太網路:\n",
    "\n",
    "   連線特定 DNS 尾碼 . . . . . . . . : \n",
    "   連結-本機 IPv6 位址 . . . . . . . : {a}\n",
    "   IPv4 位址 . . . . . . . . . . . . : {b}\n",
    "   子網路遮罩 . . . . . . . . . . . .: {c}\n",
    "   預設閘道 . . . . . . . . . . . . .: {d}\n",
    "\n",
    "'''\n",
    "    return BIG_STR"
   ]
  },
  {
   "cell_type": "code",
   "execution_count": null,
   "metadata": {},
   "outputs": [],
   "source": [
    "IPv6 = ':'.join(''.join(random.choice(string.ascii_letters + string.digits) for x in range(4))for y in range(6))\n",
    "IPv4 = '.'.join(''.join(random.choice(string.digits) for x in range(3))for y in range(4))\n",
    "Mark = '.'.join(''.join(random.choice(string.digits) for x in range(3))for y in range(4))\n",
    "getway = '.'.join(''.join(random.choice(string.digits) for x in range(3))for y in range(4))"
   ]
  },
  {
   "cell_type": "code",
   "execution_count": null,
   "metadata": {},
   "outputs": [],
   "source": [
    "for i in range(1):\n",
    "    IPv6 = ':'.join(''.join(random.choice(string.ascii_letters + string.digits) for x in range(4))for y in range(6))\n",
    "    IPv4 = '.'.join(''.join(random.choice(string.digits) for x in range(3))for y in range(4))\n",
    "    Mark = '.'.join(''.join(random.choice(string.digits) for x in range(3))for y in range(4))\n",
    "    getway = '.'.join(''.join(random.choice(string.digits) for x in range(3))for y in range(4))\n",
    "    with open(f\"{i}.txt\", 'w') as f:\n",
    "        f.write(BIGSTR(IPv6, IPv4, Mark, getway))"
   ]
  }
 ],
 "metadata": {
  "kernelspec": {
   "display_name": "Python 3",
   "language": "python",
   "name": "python3"
  },
  "language_info": {
   "codemirror_mode": {
    "name": "ipython",
    "version": 3
   },
   "file_extension": ".py",
   "mimetype": "text/x-python",
   "name": "python",
   "nbconvert_exporter": "python",
   "pygments_lexer": "ipython3",
   "version": "3.7.3"
  }
 },
 "nbformat": 4,
 "nbformat_minor": 2
}
